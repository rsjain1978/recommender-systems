{
 "cells": [
  {
   "cell_type": "code",
   "execution_count": 1,
   "metadata": {},
   "outputs": [],
   "source": [
    "import pandas as pd\n",
    "import numpy as np"
   ]
  },
  {
   "cell_type": "code",
   "execution_count": 2,
   "metadata": {},
   "outputs": [
    {
     "data": {
      "text/html": [
       "<div>\n",
       "<style scoped>\n",
       "    .dataframe tbody tr th:only-of-type {\n",
       "        vertical-align: middle;\n",
       "    }\n",
       "\n",
       "    .dataframe tbody tr th {\n",
       "        vertical-align: top;\n",
       "    }\n",
       "\n",
       "    .dataframe thead th {\n",
       "        text-align: right;\n",
       "    }\n",
       "</style>\n",
       "<table border=\"1\" class=\"dataframe\">\n",
       "  <thead>\n",
       "    <tr style=\"text-align: right;\">\n",
       "      <th></th>\n",
       "      <th>UserId</th>\n",
       "      <th>11: Star Wars: Episode IV - A New Hope (1977)</th>\n",
       "      <th>12: Finding Nemo (2003)</th>\n",
       "      <th>13: Forrest Gump (1994)</th>\n",
       "      <th>14: American Beauty (1999)</th>\n",
       "      <th>22: Pirates of the Caribbean: The Curse of the Black Pearl (2003)</th>\n",
       "      <th>24: Kill Bill: Vol. 1 (2003)</th>\n",
       "      <th>38: Eternal Sunshine of the Spotless Mind (2004)</th>\n",
       "      <th>63: Twelve Monkeys (a.k.a. 12 Monkeys) (1995)</th>\n",
       "      <th>77: Memento (2000)</th>\n",
       "      <th>...</th>\n",
       "      <th>8467: Dumb &amp; Dumber (1994)</th>\n",
       "      <th>8587: The Lion King (1994)</th>\n",
       "      <th>9331: Clear and Present Danger (1994)</th>\n",
       "      <th>9741: Unbreakable (2000)</th>\n",
       "      <th>9802: The Rock (1996)</th>\n",
       "      <th>9806: The Incredibles (2004)</th>\n",
       "      <th>10020: Beauty and the Beast (1991)</th>\n",
       "      <th>36657: X-Men (2000)</th>\n",
       "      <th>36658: X2: X-Men United (2003)</th>\n",
       "      <th>36955: True Lies (1994)</th>\n",
       "    </tr>\n",
       "  </thead>\n",
       "  <tbody>\n",
       "    <tr>\n",
       "      <th>0</th>\n",
       "      <td>1648</td>\n",
       "      <td></td>\n",
       "      <td></td>\n",
       "      <td></td>\n",
       "      <td></td>\n",
       "      <td>4</td>\n",
       "      <td>3</td>\n",
       "      <td></td>\n",
       "      <td></td>\n",
       "      <td></td>\n",
       "      <td>...</td>\n",
       "      <td></td>\n",
       "      <td>4</td>\n",
       "      <td></td>\n",
       "      <td></td>\n",
       "      <td>5</td>\n",
       "      <td>3.5</td>\n",
       "      <td>3</td>\n",
       "      <td></td>\n",
       "      <td>3.5</td>\n",
       "      <td></td>\n",
       "    </tr>\n",
       "    <tr>\n",
       "      <th>1</th>\n",
       "      <td>5136</td>\n",
       "      <td>4.5</td>\n",
       "      <td>5</td>\n",
       "      <td>5</td>\n",
       "      <td>4</td>\n",
       "      <td>5</td>\n",
       "      <td>5</td>\n",
       "      <td>5</td>\n",
       "      <td>3</td>\n",
       "      <td></td>\n",
       "      <td>...</td>\n",
       "      <td>1</td>\n",
       "      <td>5</td>\n",
       "      <td></td>\n",
       "      <td></td>\n",
       "      <td></td>\n",
       "      <td>5</td>\n",
       "      <td>5</td>\n",
       "      <td>4.5</td>\n",
       "      <td>4</td>\n",
       "      <td></td>\n",
       "    </tr>\n",
       "    <tr>\n",
       "      <th>2</th>\n",
       "      <td>918</td>\n",
       "      <td>5</td>\n",
       "      <td>5</td>\n",
       "      <td>4.5</td>\n",
       "      <td></td>\n",
       "      <td>3</td>\n",
       "      <td></td>\n",
       "      <td>5</td>\n",
       "      <td></td>\n",
       "      <td>5</td>\n",
       "      <td>...</td>\n",
       "      <td></td>\n",
       "      <td>5</td>\n",
       "      <td></td>\n",
       "      <td></td>\n",
       "      <td></td>\n",
       "      <td>3.5</td>\n",
       "      <td></td>\n",
       "      <td></td>\n",
       "      <td></td>\n",
       "      <td></td>\n",
       "    </tr>\n",
       "    <tr>\n",
       "      <th>3</th>\n",
       "      <td>2824</td>\n",
       "      <td>4.5</td>\n",
       "      <td></td>\n",
       "      <td>5</td>\n",
       "      <td></td>\n",
       "      <td>4.5</td>\n",
       "      <td>4</td>\n",
       "      <td></td>\n",
       "      <td></td>\n",
       "      <td>5</td>\n",
       "      <td>...</td>\n",
       "      <td></td>\n",
       "      <td>3.5</td>\n",
       "      <td></td>\n",
       "      <td></td>\n",
       "      <td></td>\n",
       "      <td></td>\n",
       "      <td></td>\n",
       "      <td></td>\n",
       "      <td></td>\n",
       "      <td></td>\n",
       "    </tr>\n",
       "    <tr>\n",
       "      <th>4</th>\n",
       "      <td>3867</td>\n",
       "      <td>4</td>\n",
       "      <td>4</td>\n",
       "      <td>4.5</td>\n",
       "      <td></td>\n",
       "      <td>4</td>\n",
       "      <td>3</td>\n",
       "      <td></td>\n",
       "      <td></td>\n",
       "      <td></td>\n",
       "      <td>...</td>\n",
       "      <td>1</td>\n",
       "      <td>4</td>\n",
       "      <td></td>\n",
       "      <td></td>\n",
       "      <td></td>\n",
       "      <td>3</td>\n",
       "      <td>4</td>\n",
       "      <td>4</td>\n",
       "      <td>3.5</td>\n",
       "      <td>3</td>\n",
       "    </tr>\n",
       "  </tbody>\n",
       "</table>\n",
       "<p>5 rows × 101 columns</p>\n",
       "</div>"
      ],
      "text/plain": [
       "   UserId 11: Star Wars: Episode IV - A New Hope (1977)  \\\n",
       "0    1648                                                 \n",
       "1    5136                                           4.5   \n",
       "2     918                                             5   \n",
       "3    2824                                           4.5   \n",
       "4    3867                                             4   \n",
       "\n",
       "  12: Finding Nemo (2003) 13: Forrest Gump (1994) 14: American Beauty (1999)  \\\n",
       "0                                                                              \n",
       "1                       5                       5                          4   \n",
       "2                       5                     4.5                              \n",
       "3                                               5                              \n",
       "4                       4                     4.5                              \n",
       "\n",
       "  22: Pirates of the Caribbean: The Curse of the Black Pearl (2003)  \\\n",
       "0                                                  4                  \n",
       "1                                                  5                  \n",
       "2                                                  3                  \n",
       "3                                                4.5                  \n",
       "4                                                  4                  \n",
       "\n",
       "  24: Kill Bill: Vol. 1 (2003)  \\\n",
       "0                            3   \n",
       "1                            5   \n",
       "2                                \n",
       "3                            4   \n",
       "4                            3   \n",
       "\n",
       "  38: Eternal Sunshine of the Spotless Mind (2004)  \\\n",
       "0                                                    \n",
       "1                                                5   \n",
       "2                                                5   \n",
       "3                                                    \n",
       "4                                                    \n",
       "\n",
       "  63: Twelve Monkeys (a.k.a. 12 Monkeys) (1995) 77: Memento (2000)  ...  \\\n",
       "0                                                                   ...   \n",
       "1                                             3                     ...   \n",
       "2                                                                5  ...   \n",
       "3                                                                5  ...   \n",
       "4                                                                   ...   \n",
       "\n",
       "  8467: Dumb & Dumber (1994) 8587: The Lion King (1994)  \\\n",
       "0                                                     4   \n",
       "1                          1                          5   \n",
       "2                                                     5   \n",
       "3                                                   3.5   \n",
       "4                          1                          4   \n",
       "\n",
       "  9331: Clear and Present Danger (1994) 9741: Unbreakable (2000)  \\\n",
       "0                                                                  \n",
       "1                                                                  \n",
       "2                                                                  \n",
       "3                                                                  \n",
       "4                                                                  \n",
       "\n",
       "  9802: The Rock (1996) 9806: The Incredibles (2004)  \\\n",
       "0                     5                          3.5   \n",
       "1                                                  5   \n",
       "2                                                3.5   \n",
       "3                                                      \n",
       "4                                                  3   \n",
       "\n",
       "  10020: Beauty and the Beast (1991) 36657: X-Men (2000)  \\\n",
       "0                                  3                       \n",
       "1                                  5                 4.5   \n",
       "2                                                          \n",
       "3                                                          \n",
       "4                                  4                   4   \n",
       "\n",
       "  36658: X2: X-Men United (2003) 36955: True Lies (1994)  \n",
       "0                            3.5                          \n",
       "1                              4                          \n",
       "2                                                         \n",
       "3                                                         \n",
       "4                            3.5                       3  \n",
       "\n",
       "[5 rows x 101 columns]"
      ]
     },
     "execution_count": 2,
     "metadata": {},
     "output_type": "execute_result"
    }
   ],
   "source": [
    "data = pd.read_csv('uucf.csv')\n",
    "data=data.fillna('')\n",
    "data.head()"
   ]
  },
  {
   "cell_type": "markdown",
   "metadata": {},
   "source": [
    "# Convert given data into a format which can be used for Collaborative Filtering Algorithms."
   ]
  },
  {
   "cell_type": "code",
   "execution_count": 3,
   "metadata": {},
   "outputs": [],
   "source": [
    "flat_data = pd.DataFrame(columns=['user','item','rating'])\n",
    "\n",
    "cols = data.columns\n",
    "users = data['UserId']\n",
    "for u in users:\n",
    "    for c in cols:\n",
    "        if c =='UserId':\n",
    "            continue\n",
    "        i = c.split(':')[0]\n",
    "        r = data[data['UserId']==u][c].tolist()[0]\n",
    "        \n",
    "        #print ('Adding user (%s), item (%s), rating (%s)'%(u,i,r))\n",
    "        \n",
    "        #if there are no ratings for a given user and movie then ignore that record\n",
    "        if r=='':\n",
    "            continue\n",
    "        else:\n",
    "            #put records in seperate dataframe    \n",
    "            flat_data = flat_data.append({'user': u,'item':i,'rating':r}, ignore_index=True)\n",
    "        "
   ]
  },
  {
   "cell_type": "markdown",
   "metadata": {},
   "source": [
    "# Collaboraive Filtering\n",
    "\n",
    "    - I have used Surprise library for implementing CF see https://surprise.readthedocs.io/en/stable/index.html\n",
    "    - For a list of supported algorithms see https://surprise.readthedocs.io/en/stable/prediction_algorithms_package.html"
   ]
  },
  {
   "cell_type": "markdown",
   "metadata": {},
   "source": [
    "## UUCF Using SVD - Build Collaborative Filtering model Using SVD\n",
    "\n",
    "    - Model-based Collaborative Filtering: Singular Value Decomposition\n",
    "    \n",
    "    - load the required surprise library classes\n",
    "    - Run a grid search to identify the best hyper parameters for SVD algorithm"
   ]
  },
  {
   "cell_type": "code",
   "execution_count": 30,
   "metadata": {},
   "outputs": [
    {
     "name": "stdout",
     "output_type": "stream",
     "text": [
      "0.9461535461111421\n",
      "{'n_epochs': 10, 'lr_all': 0.005, 'reg_all': 0.4}\n"
     ]
    }
   ],
   "source": [
    "from surprise import Reader\n",
    "from surprise import SVD\n",
    "from surprise import Dataset\n",
    "from surprise.model_selection import cross_validate\n",
    "from surprise.model_selection import train_test_split\n",
    "from surprise import accuracy\n",
    "from surprise.model_selection import GridSearchCV\n",
    "\n",
    "# The Reader class is used to parse a file containing ratings.\n",
    "reader = Reader(rating_scale=(1, 5.0))\n",
    "\n",
    "# The columns must correspond to user id, item id and ratings (in that order).\n",
    "data_srp_cf = Dataset.load_from_df(flat_data[['user', 'item', 'rating']], reader)\n",
    "\n",
    "param_grid = {'n_epochs': [5, 10], 'lr_all': [0.002, 0.005],\n",
    "              'reg_all': [0.4, 0.6]}\n",
    "gs = GridSearchCV(SVD, param_grid, measures=['rmse', 'mae'], cv=5)\n",
    "\n",
    "gs.fit(data_srp_cf)\n",
    "\n",
    "# best RMSE score\n",
    "print(gs.best_score['rmse'])\n",
    "\n",
    "# combination of parameters that gave the best RMSE score\n",
    "print(gs.best_params['rmse'])\n",
    "\n",
    "trainset = data_srp_cf.build_full_trainset()\n",
    "\n",
    "# Than predict ratings for all pairs (u, i) that are NOT in the training set.\n",
    "testset = trainset.build_anti_testset()"
   ]
  },
  {
   "cell_type": "markdown",
   "metadata": {},
   "source": [
    "## Create final SVD model using the identified best parameters\n",
    "\n",
    "    - SVD is a type of Matrix Factorization Algorithm, https://surprise.readthedocs.io/en/stable/matrix_factorization.html"
   ]
  },
  {
   "cell_type": "code",
   "execution_count": 32,
   "metadata": {},
   "outputs": [],
   "source": [
    "svd_algo = SVD(n_epochs=10, lr_all=0.005, reg_all= 0.4)\n",
    "svd_algo.fit(trainset)\n",
    "predictions_svd = svd_algo.test(testset)"
   ]
  },
  {
   "cell_type": "markdown",
   "metadata": {},
   "source": [
    "## Make recommendations\n",
    "\n",
    "    - Here we do two things\n",
    "    - 1. Predict the ratings which a user would make for a particular movie\n",
    "    - 2. Recommend movies which the user may want to see basis their Predicted ratings"
   ]
  },
  {
   "cell_type": "code",
   "execution_count": 33,
   "metadata": {},
   "outputs": [],
   "source": [
    "def predictions_and_recommendations(preds,user,num_recommendation):\n",
    "    recommended_item = []\n",
    "    recommended_item_rating = []\n",
    "    \n",
    "    # scan through the predictions set and extract items which can be recommended to this user.\n",
    "    for pred in preds:\n",
    "        if pred[0]==user:\n",
    "            recommended_item.append(pred[1])\n",
    "            recommended_item_rating.append(pred[3])\n",
    "               \n",
    "    # create a DF\n",
    "    recommendations_df = pd.DataFrame(data=list(zip(recommended_item, recommended_item_rating)),columns=['Items','Ratings'])\n",
    "    recommendations_df = recommendations_df.sort_values(by=['Ratings'], ascending=False)[0:num_recommendation]\n",
    "    return recommendations_df"
   ]
  },
  {
   "cell_type": "code",
   "execution_count": 34,
   "metadata": {},
   "outputs": [
    {
     "name": "stdout",
     "output_type": "stream",
     "text": [
      "   Items   Ratings\n",
      "50    77  4.424460\n",
      "39  1422  4.405572\n",
      "27   274  4.404868\n",
      "19    85  4.358290\n",
      "5    424  4.331623\n"
     ]
    }
   ],
   "source": [
    "pred_recommendations_svd = predictions_and_recommendations(predictions_svd, 89,5)\n",
    "print ( pred_recommendations_svd)"
   ]
  },
  {
   "cell_type": "markdown",
   "metadata": {},
   "source": [
    "## UUCF Using KNNWithMeans"
   ]
  },
  {
   "cell_type": "code",
   "execution_count": 35,
   "metadata": {},
   "outputs": [
    {
     "name": "stdout",
     "output_type": "stream",
     "text": [
      "Computing the msd similarity matrix...\n",
      "Done computing similarity matrix.\n"
     ]
    }
   ],
   "source": [
    "from surprise import KNNWithMeans\n",
    "\n",
    "# here instead of cosine we could also choose msd, pearson. See https://surprise.readthedocs.io/en/stable/similarities.html for options\n",
    "knn_algo = KNNWithMeans(k=30, sim={'name': 'cosine','user_based': True})\n",
    "\n",
    "knn_algo.fit(trainset)\n",
    "predictions_knn = knn_algo.test(testset)"
   ]
  },
  {
   "cell_type": "code",
   "execution_count": 36,
   "metadata": {},
   "outputs": [
    {
     "name": "stdout",
     "output_type": "stream",
     "text": [
      "   Items   Ratings\n",
      "19    85  4.941163\n",
      "50    77  4.886317\n",
      "5    424  4.839573\n",
      "35   807  4.822805\n",
      "7    568  4.789277\n"
     ]
    }
   ],
   "source": [
    "pred_recommendations_knn = predictions_and_recommendations(predictions_knn, 89,5)\n",
    "print ( pred_recommendations_knn)"
   ]
  },
  {
   "cell_type": "code",
   "execution_count": null,
   "metadata": {},
   "outputs": [],
   "source": []
  }
 ],
 "metadata": {
  "kernelspec": {
   "display_name": "Python 3",
   "language": "python",
   "name": "python3"
  },
  "language_info": {
   "codemirror_mode": {
    "name": "ipython",
    "version": 3
   },
   "file_extension": ".py",
   "mimetype": "text/x-python",
   "name": "python",
   "nbconvert_exporter": "python",
   "pygments_lexer": "ipython3",
   "version": "3.6.9"
  }
 },
 "nbformat": 4,
 "nbformat_minor": 2
}
